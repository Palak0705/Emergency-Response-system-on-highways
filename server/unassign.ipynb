{
 "cells": [
  {
   "cell_type": "code",
   "execution_count": 1,
   "metadata": {},
   "outputs": [],
   "source": [
    "import pandas as pd\n",
    "import numpy as np\n",
    "import requests\n",
    "import datetime \n",
    "import time\n",
    "\n",
    "import firebase_admin\n",
    "from firebase_admin import credentials, db\n",
    "from geopy.distance import geodesic\n",
    "\n",
    "import time\n",
    "import re\n",
    "import firebase_admin\n",
    "from firebase_admin import db\n",
    "from geopy.distance import geodesic"
   ]
  },
  {
   "cell_type": "code",
   "execution_count": 2,
   "metadata": {},
   "outputs": [
    {
     "data": {
      "text/plain": [
       "<firebase_admin.App at 0x20f98a462a0>"
      ]
     },
     "execution_count": 2,
     "metadata": {},
     "output_type": "execute_result"
    }
   ],
   "source": [
    "cred = credentials.Certificate(\"creds.json\")\n",
    "firebase_admin.initialize_app(cred, {\n",
    "    \"databaseURL\": \"https://alert-8c0c7-default-rtdb.asia-southeast1.firebasedatabase.app/\"\n",
    "})"
   ]
  },
  {
   "cell_type": "code",
   "execution_count": 3,
   "metadata": {},
   "outputs": [],
   "source": [
    "ambulance_status = db.reference(\"/ambulance_status\").get()\n",
    "ambulance = db.reference(\"/ambulence_current_location\").get()\n",
    "hospital = db.reference(\"/hospitals\").get()"
   ]
  },
  {
   "cell_type": "code",
   "execution_count": 4,
   "metadata": {},
   "outputs": [],
   "source": [
    "threshold_dist = 0.002"
   ]
  },
  {
   "cell_type": "code",
   "execution_count": 5,
   "metadata": {},
   "outputs": [],
   "source": [
    "if not firebase_admin._apps:\n",
    "    cred = firebase_admin.credentials.Certificate(\"path/to/serviceAccountKey.json\")\n",
    "    firebase_admin.initialize_app(cred, {\"databaseURL\": \"https://your-database.firebaseio.com\"})\n",
    "\n",
    "def sanitize_key(key):\n",
    "    return re.sub(r\"[^\\w]\", \"_\", key)\n",
    "\n",
    "threshold_dist = 1.0  \n",
    "\n",
    "def track_ambulances():\n",
    "    while True:\n",
    "        ambulance_status = db.reference(\"/ambulance_status\").get()\n",
    "        if not ambulance_status:\n",
    "            time.sleep(5)\n",
    "            continue\n",
    "\n",
    "        for ambulance_id, hospital_name in ambulance_status.items():\n",
    "            sanitized_hospital_name = sanitize_key(hospital_name)  \n",
    "            \n",
    "            hospital_data = db.reference(f\"/hospitals/{sanitized_hospital_name}\").get()\n",
    "            ambulance_data = db.reference(f\"/ambulence_current_location/{ambulance_id}\").get()\n",
    "\n",
    "            if hospital_data and ambulance_data:\n",
    "                hospital_coords = (hospital_data[\"latitude\"], hospital_data[\"longitude\"])\n",
    "                ambulance_coords = (ambulance_data[\"latitude\"], ambulance_data[\"longitude\"])\n",
    "\n",
    "                distance = geodesic(hospital_coords, ambulance_coords).km\n",
    "\n",
    "                if distance < threshold_dist and not ambulance_data.get(\"isFree\", False):\n",
    "                    print(f\"Ambulance {ambulance_id} is near hospital {hospital_name}, distance: {distance:.4f} km\")\n",
    "                    db.reference(f\"/ambulence_current_location/{ambulance_id}\").update({\"isFree\": True})\n",
    "\n",
    "        time.sleep(5)"
   ]
  },
  {
   "cell_type": "code",
   "execution_count": 6,
   "metadata": {},
   "outputs": [
    {
     "ename": "KeyboardInterrupt",
     "evalue": "",
     "output_type": "error",
     "traceback": [
      "\u001b[1;31m---------------------------------------------------------------------------\u001b[0m",
      "\u001b[1;31mKeyboardInterrupt\u001b[0m                         Traceback (most recent call last)",
      "Cell \u001b[1;32mIn[6], line 1\u001b[0m\n\u001b[1;32m----> 1\u001b[0m \u001b[43mtrack_ambulances\u001b[49m\u001b[43m(\u001b[49m\u001b[43m)\u001b[49m\n",
      "Cell \u001b[1;32mIn[5], line 33\u001b[0m, in \u001b[0;36mtrack_ambulances\u001b[1;34m()\u001b[0m\n\u001b[0;32m     30\u001b[0m             \u001b[38;5;28mprint\u001b[39m(\u001b[38;5;124mf\u001b[39m\u001b[38;5;124m\"\u001b[39m\u001b[38;5;124mAmbulance \u001b[39m\u001b[38;5;132;01m{\u001b[39;00mambulance_id\u001b[38;5;132;01m}\u001b[39;00m\u001b[38;5;124m is near hospital \u001b[39m\u001b[38;5;132;01m{\u001b[39;00mhospital_name\u001b[38;5;132;01m}\u001b[39;00m\u001b[38;5;124m, distance: \u001b[39m\u001b[38;5;132;01m{\u001b[39;00mdistance\u001b[38;5;132;01m:\u001b[39;00m\u001b[38;5;124m.4f\u001b[39m\u001b[38;5;132;01m}\u001b[39;00m\u001b[38;5;124m km\u001b[39m\u001b[38;5;124m\"\u001b[39m)\n\u001b[0;32m     31\u001b[0m             db\u001b[38;5;241m.\u001b[39mreference(\u001b[38;5;124mf\u001b[39m\u001b[38;5;124m\"\u001b[39m\u001b[38;5;124m/ambulence_current_location/\u001b[39m\u001b[38;5;132;01m{\u001b[39;00mambulance_id\u001b[38;5;132;01m}\u001b[39;00m\u001b[38;5;124m\"\u001b[39m)\u001b[38;5;241m.\u001b[39mupdate({\u001b[38;5;124m\"\u001b[39m\u001b[38;5;124misFree\u001b[39m\u001b[38;5;124m\"\u001b[39m: \u001b[38;5;28;01mTrue\u001b[39;00m})\n\u001b[1;32m---> 33\u001b[0m \u001b[43mtime\u001b[49m\u001b[38;5;241;43m.\u001b[39;49m\u001b[43msleep\u001b[49m\u001b[43m(\u001b[49m\u001b[38;5;241;43m5\u001b[39;49m\u001b[43m)\u001b[49m\n",
      "\u001b[1;31mKeyboardInterrupt\u001b[0m: "
     ]
    }
   ],
   "source": [
    "track_ambulances()"
   ]
  },
  {
   "cell_type": "code",
   "execution_count": null,
   "metadata": {},
   "outputs": [],
   "source": []
  },
  {
   "cell_type": "code",
   "execution_count": null,
   "metadata": {},
   "outputs": [],
   "source": []
  }
 ],
 "metadata": {
  "kernelspec": {
   "display_name": "Python 3",
   "language": "python",
   "name": "python3"
  },
  "language_info": {
   "codemirror_mode": {
    "name": "ipython",
    "version": 3
   },
   "file_extension": ".py",
   "mimetype": "text/x-python",
   "name": "python",
   "nbconvert_exporter": "python",
   "pygments_lexer": "ipython3",
   "version": "3.12.3"
  }
 },
 "nbformat": 4,
 "nbformat_minor": 2
}
